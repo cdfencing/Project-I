{
 "cells": [
  {
   "cell_type": "code",
   "execution_count": 145,
   "metadata": {},
   "outputs": [
    {
     "data": {
      "text/plain": [
       "array(['A', 'W', 'U'], dtype=object)"
      ]
     },
     "execution_count": 145,
     "metadata": {},
     "output_type": "execute_result"
    }
   ],
   "source": [
    "import matplotlib.pyplot as plt\n",
    "import pandas as pd\n",
    "import numpy as np\n",
    "import scipy.stats as st\n",
    "\n",
    "L_data = pd.read_csv(\"Data/L_data_merged.csv\", low_memory = False)\n",
    "\n",
    "L_data['date'] = pd.to_datetime(L_data['date'], infer_datetime_format=True)\n",
    "\n",
    "#find the unique daytypes\n",
    "# W is weekday, A is saturday and U is sunday and holiday \n",
    "\n",
    "L_data['daytype'].unique()"
   ]
  },
  {
   "cell_type": "code",
   "execution_count": 146,
   "metadata": {},
   "outputs": [
    {
     "data": {
      "text/html": [
       "<div>\n",
       "<style scoped>\n",
       "    .dataframe tbody tr th:only-of-type {\n",
       "        vertical-align: middle;\n",
       "    }\n",
       "\n",
       "    .dataframe tbody tr th {\n",
       "        vertical-align: top;\n",
       "    }\n",
       "\n",
       "    .dataframe thead th {\n",
       "        text-align: right;\n",
       "    }\n",
       "</style>\n",
       "<table border=\"1\" class=\"dataframe\">\n",
       "  <thead>\n",
       "    <tr style=\"text-align: right;\">\n",
       "      <th></th>\n",
       "      <th>index</th>\n",
       "      <th>daytype</th>\n",
       "      <th>rides</th>\n",
       "    </tr>\n",
       "  </thead>\n",
       "  <tbody>\n",
       "    <tr>\n",
       "      <th>0</th>\n",
       "      <td>884071</td>\n",
       "      <td>W</td>\n",
       "      <td>930</td>\n",
       "    </tr>\n",
       "    <tr>\n",
       "      <th>1</th>\n",
       "      <td>884072</td>\n",
       "      <td>W</td>\n",
       "      <td>5289</td>\n",
       "    </tr>\n",
       "    <tr>\n",
       "      <th>2</th>\n",
       "      <td>884073</td>\n",
       "      <td>W</td>\n",
       "      <td>771</td>\n",
       "    </tr>\n",
       "    <tr>\n",
       "      <th>3</th>\n",
       "      <td>884074</td>\n",
       "      <td>A</td>\n",
       "      <td>629</td>\n",
       "    </tr>\n",
       "    <tr>\n",
       "      <th>4</th>\n",
       "      <td>884075</td>\n",
       "      <td>A</td>\n",
       "      <td>3288</td>\n",
       "    </tr>\n",
       "  </tbody>\n",
       "</table>\n",
       "</div>"
      ],
      "text/plain": [
       "    index daytype  rides\n",
       "0  884071       W    930\n",
       "1  884072       W   5289\n",
       "2  884073       W    771\n",
       "3  884074       A    629\n",
       "4  884075       A   3288"
      ]
     },
     "execution_count": 146,
     "metadata": {},
     "output_type": "execute_result"
    }
   ],
   "source": [
    "L_data_2018 = L_data.loc[(L_data['date']>= '01-01-2018') & (L_data['date']<= \"12-31-2018\")]\n",
    "\n",
    "#get rides for 2018 and by type\n",
    "rides_2018 = L_data_2018[['daytype', 'rides']].reset_index()\n",
    "\n",
    "rides_2018.head()"
   ]
  },
  {
   "cell_type": "code",
   "execution_count": 147,
   "metadata": {},
   "outputs": [
    {
     "data": {
      "text/html": [
       "<div>\n",
       "<style scoped>\n",
       "    .dataframe tbody tr th:only-of-type {\n",
       "        vertical-align: middle;\n",
       "    }\n",
       "\n",
       "    .dataframe tbody tr th {\n",
       "        vertical-align: top;\n",
       "    }\n",
       "\n",
       "    .dataframe thead th {\n",
       "        text-align: right;\n",
       "    }\n",
       "</style>\n",
       "<table border=\"1\" class=\"dataframe\">\n",
       "  <thead>\n",
       "    <tr style=\"text-align: right;\">\n",
       "      <th></th>\n",
       "      <th>Total Rides (2018)</th>\n",
       "      <th>Average Rides</th>\n",
       "    </tr>\n",
       "  </thead>\n",
       "  <tbody>\n",
       "    <tr>\n",
       "      <th>Weekdays (W)</th>\n",
       "      <td>152687570</td>\n",
       "      <td>4158.16</td>\n",
       "    </tr>\n",
       "    <tr>\n",
       "      <th>Saturdays (A)</th>\n",
       "      <td>17742656</td>\n",
       "      <td>2369.48</td>\n",
       "    </tr>\n",
       "    <tr>\n",
       "      <th>Sundays/Holidays (U)</th>\n",
       "      <td>14715895</td>\n",
       "      <td>1761.75</td>\n",
       "    </tr>\n",
       "  </tbody>\n",
       "</table>\n",
       "</div>"
      ],
      "text/plain": [
       "                     Total Rides (2018) Average Rides\n",
       "Weekdays (W)                  152687570       4158.16\n",
       "Saturdays (A)                  17742656       2369.48\n",
       "Sundays/Holidays (U)           14715895       1761.75"
      ]
     },
     "execution_count": 147,
     "metadata": {},
     "output_type": "execute_result"
    }
   ],
   "source": [
    "#calculations for the rides by daytypes for 2018\n",
    "rides_2018_daytype = rides_2018.groupby('daytype').sum()\n",
    "rides_2018_daytype_avg = rides_2018.groupby(\"daytype\").mean()\n",
    "\n",
    "rides_A_18 = rides_2018_daytype.loc['A', 'rides']\n",
    "rides_U_18 = rides_2018_daytype.loc['U', 'rides']\n",
    "rides_W_18 = rides_2018_daytype.loc['W', 'rides']\n",
    "avg_rides_A_18 = rides_2018_daytype_avg.loc['A', 'rides']\n",
    "avg_rides_U_18 = rides_2018_daytype_avg.loc['U', 'rides']\n",
    "avg_rides_W_18 = rides_2018_daytype_avg.loc['W', 'rides']\n",
    "\n",
    "#create 2018 ride values data frame\n",
    "ride_values_2018 = pd.DataFrame(columns = [\"Total Rides (2018)\", \"Average Rides\"], \n",
    "                             index = [\"Weekdays (W)\", \"Saturdays (A)\", \"Sundays/Holidays (U)\"])\n",
    "\n",
    "ride_values_2018.loc[\"Saturdays (A)\"] = [rides_A_18, avg_rides_A_18]\n",
    "ride_values_2018.loc[\"Sundays/Holidays (U)\"] = [rides_U_18, avg_rides_U_18]\n",
    "ride_values_2018.loc[\"Weekdays (W)\"] = [rides_W_18, avg_rides_W_18]\n",
    "\n",
    "ride_values_2018"
   ]
  },
  {
   "cell_type": "code",
   "execution_count": 148,
   "metadata": {},
   "outputs": [
    {
     "data": {
      "text/html": [
       "<div>\n",
       "<style scoped>\n",
       "    .dataframe tbody tr th:only-of-type {\n",
       "        vertical-align: middle;\n",
       "    }\n",
       "\n",
       "    .dataframe tbody tr th {\n",
       "        vertical-align: top;\n",
       "    }\n",
       "\n",
       "    .dataframe thead th {\n",
       "        text-align: right;\n",
       "    }\n",
       "</style>\n",
       "<table border=\"1\" class=\"dataframe\">\n",
       "  <thead>\n",
       "    <tr style=\"text-align: right;\">\n",
       "      <th></th>\n",
       "      <th>Total Rides (2019)</th>\n",
       "      <th>Average Rides</th>\n",
       "    </tr>\n",
       "  </thead>\n",
       "  <tbody>\n",
       "    <tr>\n",
       "      <th>Weekdays (W)</th>\n",
       "      <td>148394811</td>\n",
       "      <td>4067.06</td>\n",
       "    </tr>\n",
       "    <tr>\n",
       "      <th>Saturdays (A)</th>\n",
       "      <td>16671366</td>\n",
       "      <td>2240.78</td>\n",
       "    </tr>\n",
       "    <tr>\n",
       "      <th>Sundays/Holidays (U)</th>\n",
       "      <td>14005028</td>\n",
       "      <td>1687.56</td>\n",
       "    </tr>\n",
       "  </tbody>\n",
       "</table>\n",
       "</div>"
      ],
      "text/plain": [
       "                     Total Rides (2019) Average Rides\n",
       "Weekdays (W)                  148394811       4067.06\n",
       "Saturdays (A)                  16671366       2240.78\n",
       "Sundays/Holidays (U)           14005028       1687.56"
      ]
     },
     "execution_count": 148,
     "metadata": {},
     "output_type": "execute_result"
    }
   ],
   "source": [
    "L_data_2019 = L_data.loc[(L_data['date']>= '01-01-2019') & (L_data['date']<= \"12-31-2019\")]\n",
    "\n",
    "#get rides for 2019 and by type\n",
    "rides_2019 = L_data_2019[['daytype', 'rides']].reset_index()\n",
    "\n",
    "#calculations for the rides by daytypes for 2019\n",
    "rides_2019_daytype = rides_2019.groupby('daytype').sum()\n",
    "rides_2019_daytype_avg = rides_2019.groupby(\"daytype\").mean()\n",
    "\n",
    "rides_A_19 = rides_2019_daytype.loc['A', 'rides']\n",
    "rides_U_19 = rides_2019_daytype.loc['U', 'rides']\n",
    "rides_W_19 = rides_2019_daytype.loc['W', 'rides']\n",
    "avg_rides_A_19 = rides_2019_daytype_avg.loc['A', 'rides']\n",
    "avg_rides_U_19 = rides_2019_daytype_avg.loc['U', 'rides']\n",
    "avg_rides_W_19 = rides_2019_daytype_avg.loc['W', 'rides']\n",
    "\n",
    "#create 2019 ride values data frame\n",
    "ride_values_2019 = pd.DataFrame(columns = [\"Total Rides (2019)\", \"Average Rides\"], \n",
    "                             index = [\"Weekdays (W)\", \"Saturdays (A)\", \"Sundays/Holidays (U)\"])\n",
    "\n",
    "ride_values_2019.loc[\"Saturdays (A)\"] = [rides_A_19, avg_rides_A_19]\n",
    "ride_values_2019.loc[\"Sundays/Holidays (U)\"] = [rides_U_19, avg_rides_U_19]\n",
    "ride_values_2019.loc[\"Weekdays (W)\"] = [rides_W_19, avg_rides_W_19]\n",
    "\n",
    "ride_values_2019"
   ]
  },
  {
   "cell_type": "code",
   "execution_count": 149,
   "metadata": {},
   "outputs": [
    {
     "data": {
      "text/html": [
       "<div>\n",
       "<style scoped>\n",
       "    .dataframe tbody tr th:only-of-type {\n",
       "        vertical-align: middle;\n",
       "    }\n",
       "\n",
       "    .dataframe tbody tr th {\n",
       "        vertical-align: top;\n",
       "    }\n",
       "\n",
       "    .dataframe thead th {\n",
       "        text-align: right;\n",
       "    }\n",
       "</style>\n",
       "<table border=\"1\" class=\"dataframe\">\n",
       "  <thead>\n",
       "    <tr style=\"text-align: right;\">\n",
       "      <th></th>\n",
       "      <th>Total Rides (2020)</th>\n",
       "      <th>Average Rides</th>\n",
       "    </tr>\n",
       "  </thead>\n",
       "  <tbody>\n",
       "    <tr>\n",
       "      <th>Weekdays (W)</th>\n",
       "      <td>31528216</td>\n",
       "      <td>2563.69</td>\n",
       "    </tr>\n",
       "    <tr>\n",
       "      <th>Saturdays (A)</th>\n",
       "      <td>3146658</td>\n",
       "      <td>1294.39</td>\n",
       "    </tr>\n",
       "    <tr>\n",
       "      <th>Sundays/Holidays (U)</th>\n",
       "      <td>2619106</td>\n",
       "      <td>1017.52</td>\n",
       "    </tr>\n",
       "  </tbody>\n",
       "</table>\n",
       "</div>"
      ],
      "text/plain": [
       "                     Total Rides (2020) Average Rides\n",
       "Weekdays (W)                   31528216       2563.69\n",
       "Saturdays (A)                   3146658       1294.39\n",
       "Sundays/Holidays (U)            2619106       1017.52"
      ]
     },
     "execution_count": 149,
     "metadata": {},
     "output_type": "execute_result"
    }
   ],
   "source": [
    "L_data_2020 = L_data.loc[(L_data['date']>= '01-01-2020') & (L_data['date']<= \"12-31-2020\")]\n",
    "\n",
    "#get rides for 2020 and by type\n",
    "rides_2020 = L_data_2020[['daytype', 'rides']].reset_index()\n",
    "\n",
    "#calculations for the rides by daytypes for 2020\n",
    "rides_2020_daytype = rides_2020.groupby('daytype').sum()\n",
    "rides_2020_daytype_avg = rides_2020.groupby(\"daytype\").mean()\n",
    "\n",
    "rides_A_20 = rides_2020_daytype.loc['A', 'rides']\n",
    "rides_U_20 = rides_2020_daytype.loc['U', 'rides']\n",
    "rides_W_20 = rides_2020_daytype.loc['W', 'rides']\n",
    "avg_rides_A_20 = rides_2020_daytype_avg.loc['A', 'rides']\n",
    "avg_rides_U_20 = rides_2020_daytype_avg.loc['U', 'rides']\n",
    "avg_rides_W_20 = rides_2020_daytype_avg.loc['W', 'rides']\n",
    "\n",
    "#create 2020 ride values data frame\n",
    "ride_values_2020 = pd.DataFrame(columns = [\"Total Rides (2020)\", \"Average Rides\"], \n",
    "                             index = [\"Weekdays (W)\", \"Saturdays (A)\", \"Sundays/Holidays (U)\"])\n",
    "\n",
    "ride_values_2020.loc[\"Saturdays (A)\"] = [rides_A_20, avg_rides_A_20]\n",
    "ride_values_2020.loc[\"Sundays/Holidays (U)\"] = [rides_U_20, avg_rides_U_20]\n",
    "ride_values_2020.loc[\"Weekdays (W)\"] = [rides_W_20, avg_rides_W_20]\n",
    "\n",
    "ride_values_2020"
   ]
  },
  {
   "cell_type": "code",
   "execution_count": 150,
   "metadata": {},
   "outputs": [
    {
     "data": {
      "image/png": "[encoded data removed]",
      "text/plain": [
       "<Figure size 504x504 with 1 Axes>"
      ]
     },
     "metadata": {
      "needs_background": "light"
     },
     "output_type": "display_data"
    }
   ],
   "source": [
    "#Plot total number of rides by daytype for past 3 years\n",
    "plotdata = pd.DataFrame({\n",
    "    \"Total Rides (2018)\":[152687570, 17742656, 14715895],\n",
    "    \"Total Rides (2019)\":[148394811, 16671366, 14005028],\n",
    "    \"Total Rides (2020)\":[31528216, 3146658, 2619106]\n",
    "    }, \n",
    "    index=[\"Weekdays (W)\", \"Saturdays (A)\", \"Sundays/Holidays (U)\"]\n",
    ")\n",
    "color = [\"green\", \"blue\", \"red\"]\n",
    "\n",
    "plotdata.plot(kind=\"bar\", color=color, figsize=(7,7))\n",
    "plt.title(\"Total L Rides v Daytypes\")\n",
    "plt.xlabel(\"Daytypes\")\n",
    "plt.ylabel(\"Total L Rides (Hundred Millions)\")\n",
    "plt.savefig(\"Plots/'L rides by daytype\", bbox_inches='tight')"
   ]
  },
  {
   "cell_type": "code",
   "execution_count": 151,
   "metadata": {},
   "outputs": [
    {
     "data": {
      "image/png": "[encoded data removed]",
      "text/plain": [
       "<Figure size 504x504 with 1 Axes>"
      ]
     },
     "metadata": {
      "needs_background": "light"
     },
     "output_type": "display_data"
    }
   ],
   "source": [
    "# Plot average number of rides by daytype for past 3 years\n",
    "plotdata = pd.DataFrame({\n",
    "    \"Average Rides (2018)\":[4158.16, 2369.48, 1761.75],\n",
    "    \"Average Rides (2019)\":[4067.06, 2240.78, 1687.56],\n",
    "    \"Average Rides (2020)\":[2563.69, 1294.39, 1017.52]\n",
    "    }, \n",
    "    index=[\"Weekdays (W)\", \"Saturdays (A)\", \"Sundays/Holidays (U)\"]\n",
    ")\n",
    "color = [\"green\", \"blue\", \"red\"]\n",
    "plotdata.plot(kind=\"bar\", color=color, figsize=(7,7))\n",
    "plt.title(\"Average L Rides v Daytypes\")\n",
    "plt.xlabel(\"Daytypes\")\n",
    "plt.ylabel(\"Average L Rides\")\n",
    "plt.savefig(\"Plots/'Avg L rides by daytype\", bbox_inches='tight')"
   ]
  },
  {
   "cell_type": "code",
   "execution_count": 152,
   "metadata": {},
   "outputs": [
    {
     "data": {
      "text/html": [
       "<div>\n",
       "<style scoped>\n",
       "    .dataframe tbody tr th:only-of-type {\n",
       "        vertical-align: middle;\n",
       "    }\n",
       "\n",
       "    .dataframe tbody tr th {\n",
       "        vertical-align: top;\n",
       "    }\n",
       "\n",
       "    .dataframe thead th {\n",
       "        text-align: right;\n",
       "    }\n",
       "</style>\n",
       "<table border=\"1\" class=\"dataframe\">\n",
       "  <thead>\n",
       "    <tr style=\"text-align: right;\">\n",
       "      <th></th>\n",
       "      <th>Total Rides Jan through May (2018)</th>\n",
       "      <th>Average Rides</th>\n",
       "    </tr>\n",
       "  </thead>\n",
       "  <tbody>\n",
       "    <tr>\n",
       "      <th>Weekdays (W)</th>\n",
       "      <td>62403021</td>\n",
       "      <td>4050.04</td>\n",
       "    </tr>\n",
       "    <tr>\n",
       "      <th>Saturdays (A)</th>\n",
       "      <td>6750735</td>\n",
       "      <td>2232.39</td>\n",
       "    </tr>\n",
       "    <tr>\n",
       "      <th>Sundays/Holidays (U)</th>\n",
       "      <td>5278961</td>\n",
       "      <td>1593.41</td>\n",
       "    </tr>\n",
       "  </tbody>\n",
       "</table>\n",
       "</div>"
      ],
      "text/plain": [
       "                     Total Rides Jan through May (2018) Average Rides\n",
       "Weekdays (W)                                   62403021       4050.04\n",
       "Saturdays (A)                                   6750735       2232.39\n",
       "Sundays/Holidays (U)                            5278961       1593.41"
      ]
     },
     "execution_count": 152,
     "metadata": {},
     "output_type": "execute_result"
    }
   ],
   "source": [
    "#look deeper at 2018 jan through may and compare to covid\n",
    "L_data_2018_JantoMay = L_data.loc[(L_data['date']>= '01-01-2018') & (L_data['date']<= \"05-31-2018\")]\n",
    "\n",
    "#get rides for 2018 and by type\n",
    "rides_2018_JantoMay = L_data_2018_JantoMay[['daytype', 'rides']].reset_index()\n",
    "\n",
    "#calculations for the rides by daytypes for 2018\n",
    "rides_2018_daytype_JantoMay = rides_2018_JantoMay.groupby('daytype').sum()\n",
    "rides_2018_daytype_avg_JantoMay = rides_2018_JantoMay.groupby(\"daytype\").mean()\n",
    "\n",
    "rides_A_18_JantoMay = rides_2018_daytype_JantoMay.loc['A', 'rides']\n",
    "rides_U_18_JantoMay = rides_2018_daytype_JantoMay.loc['U', 'rides']\n",
    "rides_W_18_JantoMay = rides_2018_daytype_JantoMay.loc['W', 'rides']\n",
    "avg_rides_A_18_JantoMay = rides_2018_daytype_avg_JantoMay.loc['A', 'rides']\n",
    "avg_rides_U_18_JantoMay = rides_2018_daytype_avg_JantoMay.loc['U', 'rides']\n",
    "avg_rides_W_18_JantoMay = rides_2018_daytype_avg_JantoMay.loc['W', 'rides']\n",
    "\n",
    "#create 2018 ride values data frame\n",
    "ride_values_2018_JantoMay = pd.DataFrame(columns = [\"Total Rides Jan through May (2018)\", \"Average Rides\"], \n",
    "                             index = [\"Weekdays (W)\", \"Saturdays (A)\", \"Sundays/Holidays (U)\"])\n",
    "\n",
    "ride_values_2018_JantoMay.loc[\"Saturdays (A)\"] = [rides_A_18_JantoMay, avg_rides_A_18_JantoMay]\n",
    "ride_values_2018_JantoMay.loc[\"Sundays/Holidays (U)\"] = [rides_U_18_JantoMay, avg_rides_U_18_JantoMay]\n",
    "ride_values_2018_JantoMay.loc[\"Weekdays (W)\"] = [rides_W_18_JantoMay, avg_rides_W_18_JantoMay]\n",
    "\n",
    "ride_values_2018_JantoMay\n"
   ]
  },
  {
   "cell_type": "code",
   "execution_count": 153,
   "metadata": {},
   "outputs": [
    {
     "data": {
      "text/html": [
       "<div>\n",
       "<style scoped>\n",
       "    .dataframe tbody tr th:only-of-type {\n",
       "        vertical-align: middle;\n",
       "    }\n",
       "\n",
       "    .dataframe tbody tr th {\n",
       "        vertical-align: top;\n",
       "    }\n",
       "\n",
       "    .dataframe thead th {\n",
       "        text-align: right;\n",
       "    }\n",
       "</style>\n",
       "<table border=\"1\" class=\"dataframe\">\n",
       "  <thead>\n",
       "    <tr style=\"text-align: right;\">\n",
       "      <th></th>\n",
       "      <th>Total Rides Jan through May (2019)</th>\n",
       "      <th>Average Rides</th>\n",
       "    </tr>\n",
       "  </thead>\n",
       "  <tbody>\n",
       "    <tr>\n",
       "      <th>Weekdays (W)</th>\n",
       "      <td>60720444</td>\n",
       "      <td>3962.7</td>\n",
       "    </tr>\n",
       "    <tr>\n",
       "      <th>Saturdays (A)</th>\n",
       "      <td>6307531</td>\n",
       "      <td>2097.62</td>\n",
       "    </tr>\n",
       "    <tr>\n",
       "      <th>Sundays/Holidays (U)</th>\n",
       "      <td>4990706</td>\n",
       "      <td>1515.09</td>\n",
       "    </tr>\n",
       "  </tbody>\n",
       "</table>\n",
       "</div>"
      ],
      "text/plain": [
       "                     Total Rides Jan through May (2019) Average Rides\n",
       "Weekdays (W)                                   60720444        3962.7\n",
       "Saturdays (A)                                   6307531       2097.62\n",
       "Sundays/Holidays (U)                            4990706       1515.09"
      ]
     },
     "execution_count": 153,
     "metadata": {},
     "output_type": "execute_result"
    }
   ],
   "source": [
    "#look deeper 2019 jan through may and compare to covid\n",
    "L_data_2019_JantoMay = L_data.loc[(L_data['date']>= '01-01-2019') & (L_data['date']<= \"05-31-2019\")]\n",
    "\n",
    "#get rides for 2019 and by type\n",
    "rides_2019_JantoMay = L_data_2019_JantoMay[['daytype', 'rides']].reset_index()\n",
    "\n",
    "#calculations for the rides by daytypes for 2019\n",
    "rides_2019_daytype_JantoMay = rides_2019_JantoMay.groupby('daytype').sum()\n",
    "rides_2019_daytype_avg_JantoMay = rides_2019_JantoMay.groupby(\"daytype\").mean()\n",
    "\n",
    "rides_A_19_JantoMay = rides_2019_daytype_JantoMay.loc['A', 'rides']\n",
    "rides_U_19_JantoMay = rides_2019_daytype_JantoMay.loc['U', 'rides']\n",
    "rides_W_19_JantoMay = rides_2019_daytype_JantoMay.loc['W', 'rides']\n",
    "avg_rides_A_19_JantoMay = rides_2019_daytype_avg_JantoMay.loc['A', 'rides']\n",
    "avg_rides_U_19_JantoMay = rides_2019_daytype_avg_JantoMay.loc['U', 'rides']\n",
    "avg_rides_W_19_JantoMay = rides_2019_daytype_avg_JantoMay.loc['W', 'rides']\n",
    "\n",
    "#create 2019 ride values data frame\n",
    "ride_values_2019_JantoMay = pd.DataFrame(columns = [\"Total Rides Jan through May (2019)\", \"Average Rides\"], \n",
    "                             index = [\"Weekdays (W)\", \"Saturdays (A)\", \"Sundays/Holidays (U)\"])\n",
    "\n",
    "ride_values_2019_JantoMay.loc[\"Saturdays (A)\"] = [rides_A_19_JantoMay, avg_rides_A_19_JantoMay]\n",
    "ride_values_2019_JantoMay.loc[\"Sundays/Holidays (U)\"] = [rides_U_19_JantoMay, avg_rides_U_19_JantoMay]\n",
    "ride_values_2019_JantoMay.loc[\"Weekdays (W)\"] = [rides_W_19_JantoMay, avg_rides_W_19_JantoMay]\n",
    "\n",
    "ride_values_2019_JantoMay"
   ]
  },
  {
   "cell_type": "code",
   "execution_count": 154,
   "metadata": {},
   "outputs": [
    {
     "data": {
      "image/png": "[encoded data removed]",
      "text/plain": [
       "<Figure size 504x504 with 1 Axes>"
      ]
     },
     "metadata": {
      "needs_background": "light"
     },
     "output_type": "display_data"
    }
   ],
   "source": [
    "#Plot total number of rides by daytype for past 3 years (January to May data)\n",
    "plotdata = pd.DataFrame({\n",
    "    \"Total Rides (2018)\":[62403021, 6750735, 5278961],\n",
    "    \"Total Rides (2019)\":[60720444, 6307531, 4990706],\n",
    "    \"Total Rides (2020)\":[31528216, 3146658, 2619106]\n",
    "    }, \n",
    "    index=[\"Weekdays (W)\", \"Saturdays (A)\", \"Sundays/Holidays (U)\"]\n",
    ")\n",
    "color = [\"green\", \"blue\", \"red\"]\n",
    "\n",
    "plotdata.plot(kind=\"bar\", color=color, figsize=(7,7))\n",
    "plt.title(\"Total L Rides (January through May) v Daytypes\")\n",
    "plt.xlabel(\"Daytypes\")\n",
    "plt.ylabel(\"Total L Rides (Tens of Millions)\")\n",
    "plt.savefig(\"Plots/'L rides by daytype (Jan-May)\", bbox_inches='tight')"
   ]
  },
  {
   "cell_type": "code",
   "execution_count": 155,
   "metadata": {},
   "outputs": [
    {
     "data": {
      "image/png": "[encoded data removed]",
      "text/plain": [
       "<Figure size 504x504 with 1 Axes>"
      ]
     },
     "metadata": {
      "needs_background": "light"
     },
     "output_type": "display_data"
    }
   ],
   "source": [
    "# Plot average number of rides by daytype for past 3 years (January to May data)\n",
    "plotdata = pd.DataFrame({\n",
    "    \"Average Rides (2018)\":[4050.04, 2232.39, 1593.41],\n",
    "    \"Average Rides (2019)\":[3962.7, 2097.62, 1515.09],\n",
    "    \"Average Rides (2020)\":[2563.69, 1294.39, 1017.52]\n",
    "    }, \n",
    "    index=[\"Weekdays (W)\", \"Saturdays (A)\", \"Sundays/Holidays (U)\"]\n",
    ")\n",
    "color = [\"green\", \"blue\", \"red\"]\n",
    "plotdata.plot(kind=\"bar\", color=color, figsize=(7,7))\n",
    "plt.title(\"Average L Rides (January through May) v Daytypes\")\n",
    "plt.xlabel(\"Daytypes\")\n",
    "plt.ylabel(\"Average L Rides\")\n",
    "plt.savefig(\"Plots/'Avg L rides by daytype (Jan-May)\", bbox_inches='tight')"
   ]
  },
  {
   "cell_type": "code",
   "execution_count": 156,
   "metadata": {},
   "outputs": [
    {
     "data": {
      "text/plain": [
       "array(['U', 'W', 'A'], dtype=object)"
      ]
     },
     "execution_count": 156,
     "metadata": {},
     "output_type": "execute_result"
    }
   ],
   "source": [
    "bus_data = pd.read_csv(\"Data/bus_ridership_daily.csv\", low_memory = False)\n",
    "\n",
    "bus_data['date'] = pd.to_datetime(bus_data['date'], infer_datetime_format=True)\n",
    "\n",
    "#find the unique daytypes\n",
    "# W is weekday, A is saturday and U is sunday and holiday \n",
    "\n",
    "bus_data['daytype'].unique()"
   ]
  },
  {
   "cell_type": "code",
   "execution_count": 157,
   "metadata": {},
   "outputs": [
    {
     "data": {
      "text/html": [
       "<div>\n",
       "<style scoped>\n",
       "    .dataframe tbody tr th:only-of-type {\n",
       "        vertical-align: middle;\n",
       "    }\n",
       "\n",
       "    .dataframe tbody tr th {\n",
       "        vertical-align: top;\n",
       "    }\n",
       "\n",
       "    .dataframe thead th {\n",
       "        text-align: right;\n",
       "    }\n",
       "</style>\n",
       "<table border=\"1\" class=\"dataframe\">\n",
       "  <thead>\n",
       "    <tr style=\"text-align: right;\">\n",
       "      <th></th>\n",
       "      <th>index</th>\n",
       "      <th>daytype</th>\n",
       "      <th>rides</th>\n",
       "    </tr>\n",
       "  </thead>\n",
       "  <tbody>\n",
       "    <tr>\n",
       "      <th>0</th>\n",
       "      <td>761284</td>\n",
       "      <td>U</td>\n",
       "      <td>6793</td>\n",
       "    </tr>\n",
       "    <tr>\n",
       "      <th>1</th>\n",
       "      <td>761285</td>\n",
       "      <td>W</td>\n",
       "      <td>150</td>\n",
       "    </tr>\n",
       "    <tr>\n",
       "      <th>2</th>\n",
       "      <td>761286</td>\n",
       "      <td>W</td>\n",
       "      <td>5573</td>\n",
       "    </tr>\n",
       "    <tr>\n",
       "      <th>3</th>\n",
       "      <td>761287</td>\n",
       "      <td>U</td>\n",
       "      <td>8116</td>\n",
       "    </tr>\n",
       "    <tr>\n",
       "      <th>4</th>\n",
       "      <td>761288</td>\n",
       "      <td>U</td>\n",
       "      <td>4067</td>\n",
       "    </tr>\n",
       "  </tbody>\n",
       "</table>\n",
       "</div>"
      ],
      "text/plain": [
       "    index daytype  rides\n",
       "0  761284       U   6793\n",
       "1  761285       W    150\n",
       "2  761286       W   5573\n",
       "3  761287       U   8116\n",
       "4  761288       U   4067"
      ]
     },
     "execution_count": 157,
     "metadata": {},
     "output_type": "execute_result"
    }
   ],
   "source": [
    "bus_data_2018 = bus_data.loc[(bus_data['date']>= '01-01-2018') & (bus_data['date']<= \"12-31-2018\")]\n",
    "\n",
    "#get bus rides for 2018 and by type\n",
    "bus_rides_2018 = bus_data_2018[['daytype', 'rides']].reset_index()\n",
    "\n",
    "bus_rides_2018.head()"
   ]
  },
  {
   "cell_type": "code",
   "execution_count": 158,
   "metadata": {},
   "outputs": [
    {
     "data": {
      "text/html": [
       "<div>\n",
       "<style scoped>\n",
       "    .dataframe tbody tr th:only-of-type {\n",
       "        vertical-align: middle;\n",
       "    }\n",
       "\n",
       "    .dataframe tbody tr th {\n",
       "        vertical-align: top;\n",
       "    }\n",
       "\n",
       "    .dataframe thead th {\n",
       "        text-align: right;\n",
       "    }\n",
       "</style>\n",
       "<table border=\"1\" class=\"dataframe\">\n",
       "  <thead>\n",
       "    <tr style=\"text-align: right;\">\n",
       "      <th></th>\n",
       "      <th>Total Rides (2018)</th>\n",
       "      <th>Average Rides</th>\n",
       "    </tr>\n",
       "  </thead>\n",
       "  <tbody>\n",
       "    <tr>\n",
       "      <th>Weekdays (W)</th>\n",
       "      <td>197615944</td>\n",
       "      <td>6125.73</td>\n",
       "    </tr>\n",
       "    <tr>\n",
       "      <th>Saturdays (A)</th>\n",
       "      <td>23869747</td>\n",
       "      <td>4856.51</td>\n",
       "    </tr>\n",
       "    <tr>\n",
       "      <th>Sundays/Holidays (U)</th>\n",
       "      <td>19510168</td>\n",
       "      <td>3836.05</td>\n",
       "    </tr>\n",
       "  </tbody>\n",
       "</table>\n",
       "</div>"
      ],
      "text/plain": [
       "                     Total Rides (2018) Average Rides\n",
       "Weekdays (W)                  197615944       6125.73\n",
       "Saturdays (A)                  23869747       4856.51\n",
       "Sundays/Holidays (U)           19510168       3836.05"
      ]
     },
     "execution_count": 158,
     "metadata": {},
     "output_type": "execute_result"
    }
   ],
   "source": [
    "#calculations for the bus rides by daytypes for 2018\n",
    "bus_rides_2018_daytype = bus_rides_2018.groupby('daytype').sum()\n",
    "bus_rides_2018_daytype_avg = bus_rides_2018.groupby(\"daytype\").mean()\n",
    "\n",
    "bus_rides_A_18 = bus_rides_2018_daytype.loc['A', 'rides']\n",
    "bus_rides_U_18 = bus_rides_2018_daytype.loc['U', 'rides']\n",
    "bus_rides_W_18 = bus_rides_2018_daytype.loc['W', 'rides']\n",
    "bus_avg_rides_A_18 = bus_rides_2018_daytype_avg.loc['A', 'rides']\n",
    "bus_avg_rides_U_18 = bus_rides_2018_daytype_avg.loc['U', 'rides']\n",
    "bus_avg_rides_W_18 = bus_rides_2018_daytype_avg.loc['W', 'rides']\n",
    "\n",
    "#create 2018 ride values data frame\n",
    "bus_ride_values_2018 = pd.DataFrame(columns = [\"Total Rides (2018)\", \"Average Rides\"], \n",
    "                             index = [\"Weekdays (W)\", \"Saturdays (A)\", \"Sundays/Holidays (U)\"])\n",
    "\n",
    "bus_ride_values_2018.loc[\"Saturdays (A)\"] = [bus_rides_A_18, bus_avg_rides_A_18]\n",
    "bus_ride_values_2018.loc[\"Sundays/Holidays (U)\"] = [bus_rides_U_18, bus_avg_rides_U_18]\n",
    "bus_ride_values_2018.loc[\"Weekdays (W)\"] = [bus_rides_W_18, bus_avg_rides_W_18]\n",
    "\n",
    "bus_ride_values_2018"
   ]
  },
  {
   "cell_type": "code",
   "execution_count": 159,
   "metadata": {},
   "outputs": [
    {
     "data": {
      "text/html": [
       "<div>\n",
       "<style scoped>\n",
       "    .dataframe tbody tr th:only-of-type {\n",
       "        vertical-align: middle;\n",
       "    }\n",
       "\n",
       "    .dataframe tbody tr th {\n",
       "        vertical-align: top;\n",
       "    }\n",
       "\n",
       "    .dataframe thead th {\n",
       "        text-align: right;\n",
       "    }\n",
       "</style>\n",
       "<table border=\"1\" class=\"dataframe\">\n",
       "  <thead>\n",
       "    <tr style=\"text-align: right;\">\n",
       "      <th></th>\n",
       "      <th>Total Rides (2019)</th>\n",
       "      <th>Average Rides</th>\n",
       "    </tr>\n",
       "  </thead>\n",
       "  <tbody>\n",
       "    <tr>\n",
       "      <th>Weekdays (W)</th>\n",
       "      <td>192777395</td>\n",
       "      <td>6058.37</td>\n",
       "    </tr>\n",
       "    <tr>\n",
       "      <th>Saturdays (A)</th>\n",
       "      <td>23590498</td>\n",
       "      <td>4808.5</td>\n",
       "    </tr>\n",
       "    <tr>\n",
       "      <th>Sundays/Holidays (U)</th>\n",
       "      <td>19268679</td>\n",
       "      <td>3790.06</td>\n",
       "    </tr>\n",
       "  </tbody>\n",
       "</table>\n",
       "</div>"
      ],
      "text/plain": [
       "                     Total Rides (2019) Average Rides\n",
       "Weekdays (W)                  192777395       6058.37\n",
       "Saturdays (A)                  23590498        4808.5\n",
       "Sundays/Holidays (U)           19268679       3790.06"
      ]
     },
     "execution_count": 159,
     "metadata": {},
     "output_type": "execute_result"
    }
   ],
   "source": [
    "bus_data_2019 = bus_data.loc[(bus_data['date']>= '01-01-2019') & (bus_data['date']<= \"12-31-2019\")]\n",
    "\n",
    "#get rides for 2019 and by type\n",
    "bus_rides_2019 = bus_data_2019[['daytype', 'rides']].reset_index()\n",
    "\n",
    "#calculations for the bus rides by daytypes for 2019\n",
    "bus_rides_2019_daytype = bus_rides_2019.groupby('daytype').sum()\n",
    "bus_rides_2019_daytype_avg = bus_rides_2019.groupby(\"daytype\").mean()\n",
    "\n",
    "bus_rides_A_19 = bus_rides_2019_daytype.loc['A', 'rides']\n",
    "bus_rides_U_19 = bus_rides_2019_daytype.loc['U', 'rides']\n",
    "bus_rides_W_19 = bus_rides_2019_daytype.loc['W', 'rides']\n",
    "bus_avg_rides_A_19 = bus_rides_2019_daytype_avg.loc['A', 'rides']\n",
    "bus_avg_rides_U_19 = bus_rides_2019_daytype_avg.loc['U', 'rides']\n",
    "bus_avg_rides_W_19 = bus_rides_2019_daytype_avg.loc['W', 'rides']\n",
    "\n",
    "#create 2019 ride values data frame\n",
    "bus_ride_values_2019 = pd.DataFrame(columns = [\"Total Rides (2019)\", \"Average Rides\"], \n",
    "                             index = [\"Weekdays (W)\", \"Saturdays (A)\", \"Sundays/Holidays (U)\"])\n",
    "\n",
    "bus_ride_values_2019.loc[\"Saturdays (A)\"] = [bus_rides_A_19, bus_avg_rides_A_19]\n",
    "bus_ride_values_2019.loc[\"Sundays/Holidays (U)\"] = [bus_rides_U_19, bus_avg_rides_U_19]\n",
    "bus_ride_values_2019.loc[\"Weekdays (W)\"] = [bus_rides_W_19, bus_avg_rides_W_19]\n",
    "\n",
    "bus_ride_values_2019"
   ]
  },
  {
   "cell_type": "code",
   "execution_count": 160,
   "metadata": {},
   "outputs": [
    {
     "data": {
      "text/html": [
       "<div>\n",
       "<style scoped>\n",
       "    .dataframe tbody tr th:only-of-type {\n",
       "        vertical-align: middle;\n",
       "    }\n",
       "\n",
       "    .dataframe tbody tr th {\n",
       "        vertical-align: top;\n",
       "    }\n",
       "\n",
       "    .dataframe thead th {\n",
       "        text-align: right;\n",
       "    }\n",
       "</style>\n",
       "<table border=\"1\" class=\"dataframe\">\n",
       "  <thead>\n",
       "    <tr style=\"text-align: right;\">\n",
       "      <th></th>\n",
       "      <th>Total Rides (2020)</th>\n",
       "      <th>Average Rides</th>\n",
       "    </tr>\n",
       "  </thead>\n",
       "  <tbody>\n",
       "    <tr>\n",
       "      <th>Weekdays (W)</th>\n",
       "      <td>47312351</td>\n",
       "      <td>4435.39</td>\n",
       "    </tr>\n",
       "    <tr>\n",
       "      <th>Saturdays (A)</th>\n",
       "      <td>5508919</td>\n",
       "      <td>3447.38</td>\n",
       "    </tr>\n",
       "    <tr>\n",
       "      <th>Sundays/Holidays (U)</th>\n",
       "      <td>4477186</td>\n",
       "      <td>2842.66</td>\n",
       "    </tr>\n",
       "  </tbody>\n",
       "</table>\n",
       "</div>"
      ],
      "text/plain": [
       "                     Total Rides (2020) Average Rides\n",
       "Weekdays (W)                   47312351       4435.39\n",
       "Saturdays (A)                   5508919       3447.38\n",
       "Sundays/Holidays (U)            4477186       2842.66"
      ]
     },
     "execution_count": 160,
     "metadata": {},
     "output_type": "execute_result"
    }
   ],
   "source": [
    "bus_data_2020 = bus_data.loc[(bus_data['date']>= '01-01-2020') & (bus_data['date']<= \"12-31-2020\")]\n",
    "\n",
    "#get rides for 2020 and by type\n",
    "bus_rides_2020 = bus_data_2020[['daytype', 'rides']].reset_index()\n",
    "\n",
    "#calculations for the bus rides by daytypes for 2020\n",
    "bus_rides_2020_daytype = bus_rides_2020.groupby('daytype').sum()\n",
    "bus_rides_2020_daytype_avg = bus_rides_2020.groupby(\"daytype\").mean()\n",
    "\n",
    "bus_rides_A_20 = bus_rides_2020_daytype.loc['A', 'rides']\n",
    "bus_rides_U_20 = bus_rides_2020_daytype.loc['U', 'rides']\n",
    "bus_rides_W_20 = bus_rides_2020_daytype.loc['W', 'rides']\n",
    "bus_avg_rides_A_20 = bus_rides_2020_daytype_avg.loc['A', 'rides']\n",
    "bus_avg_rides_U_20 = bus_rides_2020_daytype_avg.loc['U', 'rides']\n",
    "bus_avg_rides_W_20 = bus_rides_2020_daytype_avg.loc['W', 'rides']\n",
    "\n",
    "#create 2020 ride values data frame\n",
    "bus_ride_values_2020 = pd.DataFrame(columns = [\"Total Rides (2020)\", \"Average Rides\"], \n",
    "                             index = [\"Weekdays (W)\", \"Saturdays (A)\", \"Sundays/Holidays (U)\"])\n",
    "\n",
    "bus_ride_values_2020.loc[\"Saturdays (A)\"] = [bus_rides_A_20, bus_avg_rides_A_20]\n",
    "bus_ride_values_2020.loc[\"Sundays/Holidays (U)\"] = [bus_rides_U_20, bus_avg_rides_U_20]\n",
    "bus_ride_values_2020.loc[\"Weekdays (W)\"] = [bus_rides_W_20, bus_avg_rides_W_20]\n",
    "\n",
    "bus_ride_values_2020"
   ]
  },
  {
   "cell_type": "code",
   "execution_count": 161,
   "metadata": {},
   "outputs": [
    {
     "data": {
      "image/png": "[encoded data removed]",
      "text/plain": [
       "<Figure size 504x504 with 1 Axes>"
      ]
     },
     "metadata": {
      "needs_background": "light"
     },
     "output_type": "display_data"
    }
   ],
   "source": [
    "#Plot total number of bus rides by daytype for past 3 years\n",
    "plotdata = pd.DataFrame({\n",
    "    \"Total Rides (2018)\":[197615944, 23869747, 19510168],\n",
    "    \"Total Rides (2019)\":[192777395, 23590498, 19268679],\n",
    "    \"Total Rides (2020)\":[47312351, 5508919, 4477186]\n",
    "    }, \n",
    "    index=[\"Weekdays (W)\", \"Saturdays (A)\", \"Sundays/Holidays (U)\"]\n",
    ")\n",
    "color = [\"green\", \"blue\", \"red\"]\n",
    "\n",
    "plotdata.plot(kind=\"bar\", color=color, figsize=(7,7))\n",
    "plt.title(\"Total Bus Rides v Daytypes\")\n",
    "plt.xlabel(\"Daytypes\")\n",
    "plt.ylabel(\"Total Bus Rides (Hundred Millions)\")\n",
    "plt.savefig(\"Plots/'Bus rides by daytype\", bbox_inches='tight')"
   ]
  },
  {
   "cell_type": "code",
   "execution_count": 162,
   "metadata": {},
   "outputs": [
    {
     "data": {
      "image/png": "[encoded data removed]",
      "text/plain": [
       "<Figure size 504x504 with 1 Axes>"
      ]
     },
     "metadata": {
      "needs_background": "light"
     },
     "output_type": "display_data"
    }
   ],
   "source": [
    "# Plot average number of bus rides by daytype for past 3 years\n",
    "plotdata = pd.DataFrame({\n",
    "    \"Average Rides (2018)\":[6125.73, 4856.51, 3836.05],\n",
    "    \"Average Rides (2019)\":[6058.37, 4808.05, 3790.06],\n",
    "    \"Average Rides (2020)\":[4435.39, 3447.38, 2842.66]\n",
    "    }, \n",
    "    index=[\"Weekdays (W)\", \"Saturdays (A)\", \"Sundays/Holidays (U)\"]\n",
    ")\n",
    "color = [\"green\", \"blue\", \"red\"]\n",
    "plotdata.plot(kind=\"bar\", color=color, figsize=(7,7))\n",
    "plt.title(\"Average Rides v Daytypes\")\n",
    "plt.xlabel(\"Daytypes\")\n",
    "plt.ylabel(\"Average Rides\")\n",
    "plt.savefig(\"Plots/'Avg Bus rides by daytype\", bbox_inches='tight')"
   ]
  },
  {
   "cell_type": "code",
   "execution_count": 163,
   "metadata": {},
   "outputs": [
    {
     "data": {
      "text/html": [
       "<div>\n",
       "<style scoped>\n",
       "    .dataframe tbody tr th:only-of-type {\n",
       "        vertical-align: middle;\n",
       "    }\n",
       "\n",
       "    .dataframe tbody tr th {\n",
       "        vertical-align: top;\n",
       "    }\n",
       "\n",
       "    .dataframe thead th {\n",
       "        text-align: right;\n",
       "    }\n",
       "</style>\n",
       "<table border=\"1\" class=\"dataframe\">\n",
       "  <thead>\n",
       "    <tr style=\"text-align: right;\">\n",
       "      <th></th>\n",
       "      <th>Total Bus Rides Jan through May (2018)</th>\n",
       "      <th>Average Rides</th>\n",
       "    </tr>\n",
       "  </thead>\n",
       "  <tbody>\n",
       "    <tr>\n",
       "      <th>Weekdays (W)</th>\n",
       "      <td>83342722</td>\n",
       "      <td>6158.94</td>\n",
       "    </tr>\n",
       "    <tr>\n",
       "      <th>Saturdays (A)</th>\n",
       "      <td>9331102</td>\n",
       "      <td>4705.55</td>\n",
       "    </tr>\n",
       "    <tr>\n",
       "      <th>Sundays/Holidays (U)</th>\n",
       "      <td>7451167</td>\n",
       "      <td>3701.52</td>\n",
       "    </tr>\n",
       "  </tbody>\n",
       "</table>\n",
       "</div>"
      ],
      "text/plain": [
       "                     Total Bus Rides Jan through May (2018) Average Rides\n",
       "Weekdays (W)                                       83342722       6158.94\n",
       "Saturdays (A)                                       9331102       4705.55\n",
       "Sundays/Holidays (U)                                7451167       3701.52"
      ]
     },
     "execution_count": 163,
     "metadata": {},
     "output_type": "execute_result"
    }
   ],
   "source": [
    "#look deeper at 2018 jan through may and compare to covid\n",
    "bus_data_2018_JantoMay = bus_data.loc[(bus_data['date']>= '01-01-2018') & (bus_data['date']<= \"05-31-2018\")]\n",
    "\n",
    "#get rides for 2018 and by type\n",
    "bus_rides_2018_JantoMay = bus_data_2018_JantoMay[['daytype', 'rides']].reset_index()\n",
    "\n",
    "#calculations for the rides by daytypes for 2018\n",
    "bus_rides_2018_daytype_JantoMay = bus_rides_2018_JantoMay.groupby('daytype').sum()\n",
    "bus_rides_2018_daytype_avg_JantoMay = bus_rides_2018_JantoMay.groupby(\"daytype\").mean()\n",
    "\n",
    "bus_rides_A_18_JantoMay = bus_rides_2018_daytype_JantoMay.loc['A', 'rides']\n",
    "bus_rides_U_18_JantoMay = bus_rides_2018_daytype_JantoMay.loc['U', 'rides']\n",
    "bus_rides_W_18_JantoMay = bus_rides_2018_daytype_JantoMay.loc['W', 'rides']\n",
    "bus_avg_rides_A_18_JantoMay = bus_rides_2018_daytype_avg_JantoMay.loc['A', 'rides']\n",
    "bus_avg_rides_U_18_JantoMay = bus_rides_2018_daytype_avg_JantoMay.loc['U', 'rides']\n",
    "bus_avg_rides_W_18_JantoMay = bus_rides_2018_daytype_avg_JantoMay.loc['W', 'rides']\n",
    "\n",
    "#create 2018 ride values data frame\n",
    "bus_ride_values_2018_JantoMay = pd.DataFrame(columns = [\"Total Bus Rides Jan through May (2018)\", \"Average Rides\"], \n",
    "                             index = [\"Weekdays (W)\", \"Saturdays (A)\", \"Sundays/Holidays (U)\"])\n",
    "\n",
    "bus_ride_values_2018_JantoMay.loc[\"Saturdays (A)\"] = [bus_rides_A_18_JantoMay, bus_avg_rides_A_18_JantoMay]\n",
    "bus_ride_values_2018_JantoMay.loc[\"Sundays/Holidays (U)\"] = [bus_rides_U_18_JantoMay, bus_avg_rides_U_18_JantoMay]\n",
    "bus_ride_values_2018_JantoMay.loc[\"Weekdays (W)\"] = [bus_rides_W_18_JantoMay, bus_avg_rides_W_18_JantoMay]\n",
    "\n",
    "bus_ride_values_2018_JantoMay"
   ]
  },
  {
   "cell_type": "code",
   "execution_count": 164,
   "metadata": {},
   "outputs": [
    {
     "data": {
      "text/html": [
       "<div>\n",
       "<style scoped>\n",
       "    .dataframe tbody tr th:only-of-type {\n",
       "        vertical-align: middle;\n",
       "    }\n",
       "\n",
       "    .dataframe tbody tr th {\n",
       "        vertical-align: top;\n",
       "    }\n",
       "\n",
       "    .dataframe thead th {\n",
       "        text-align: right;\n",
       "    }\n",
       "</style>\n",
       "<table border=\"1\" class=\"dataframe\">\n",
       "  <thead>\n",
       "    <tr style=\"text-align: right;\">\n",
       "      <th></th>\n",
       "      <th>Total Bus Rides Jan through May (2019)</th>\n",
       "      <th>Average Rides</th>\n",
       "    </tr>\n",
       "  </thead>\n",
       "  <tbody>\n",
       "    <tr>\n",
       "      <th>Weekdays (W)</th>\n",
       "      <td>80337637</td>\n",
       "      <td>6034.98</td>\n",
       "    </tr>\n",
       "    <tr>\n",
       "      <th>Saturdays (A)</th>\n",
       "      <td>9055319</td>\n",
       "      <td>4568.78</td>\n",
       "    </tr>\n",
       "    <tr>\n",
       "      <th>Sundays/Holidays (U)</th>\n",
       "      <td>7090149</td>\n",
       "      <td>3516.94</td>\n",
       "    </tr>\n",
       "  </tbody>\n",
       "</table>\n",
       "</div>"
      ],
      "text/plain": [
       "                     Total Bus Rides Jan through May (2019) Average Rides\n",
       "Weekdays (W)                                       80337637       6034.98\n",
       "Saturdays (A)                                       9055319       4568.78\n",
       "Sundays/Holidays (U)                                7090149       3516.94"
      ]
     },
     "execution_count": 164,
     "metadata": {},
     "output_type": "execute_result"
    }
   ],
   "source": [
    "#look deeper at 2019 jan through may and compare to covid\n",
    "bus_data_2019_JantoMay = bus_data.loc[(bus_data['date']>= '01-01-2019') & (bus_data['date']<= \"05-31-2019\")]\n",
    "\n",
    "#get rides for 2019 and by type\n",
    "bus_rides_2019_JantoMay = bus_data_2019_JantoMay[['daytype', 'rides']].reset_index()\n",
    "\n",
    "#calculations for the rides by daytypes for 2019\n",
    "bus_rides_2019_daytype_JantoMay = bus_rides_2019_JantoMay.groupby('daytype').sum()\n",
    "bus_rides_2019_daytype_avg_JantoMay = bus_rides_2019_JantoMay.groupby(\"daytype\").mean()\n",
    "\n",
    "bus_rides_A_19_JantoMay = bus_rides_2019_daytype_JantoMay.loc['A', 'rides']\n",
    "bus_rides_U_19_JantoMay = bus_rides_2019_daytype_JantoMay.loc['U', 'rides']\n",
    "bus_rides_W_19_JantoMay = bus_rides_2019_daytype_JantoMay.loc['W', 'rides']\n",
    "bus_avg_rides_A_19_JantoMay = bus_rides_2019_daytype_avg_JantoMay.loc['A', 'rides']\n",
    "bus_avg_rides_U_19_JantoMay = bus_rides_2019_daytype_avg_JantoMay.loc['U', 'rides']\n",
    "bus_avg_rides_W_19_JantoMay = bus_rides_2019_daytype_avg_JantoMay.loc['W', 'rides']\n",
    "\n",
    "#create 2019 ride values data frame\n",
    "bus_ride_values_2019_JantoMay = pd.DataFrame(columns = [\"Total Bus Rides Jan through May (2019)\", \"Average Rides\"], \n",
    "                             index = [\"Weekdays (W)\", \"Saturdays (A)\", \"Sundays/Holidays (U)\"])\n",
    "\n",
    "bus_ride_values_2019_JantoMay.loc[\"Saturdays (A)\"] = [bus_rides_A_19_JantoMay, bus_avg_rides_A_19_JantoMay]\n",
    "bus_ride_values_2019_JantoMay.loc[\"Sundays/Holidays (U)\"] = [bus_rides_U_19_JantoMay, bus_avg_rides_U_19_JantoMay]\n",
    "bus_ride_values_2019_JantoMay.loc[\"Weekdays (W)\"] = [bus_rides_W_19_JantoMay, bus_avg_rides_W_19_JantoMay]\n",
    "\n",
    "bus_ride_values_2019_JantoMay"
   ]
  },
  {
   "cell_type": "code",
   "execution_count": 165,
   "metadata": {},
   "outputs": [
    {
     "data": {
      "image/png": "[encoded data removed]",
      "text/plain": [
       "<Figure size 504x504 with 1 Axes>"
      ]
     },
     "metadata": {
      "needs_background": "light"
     },
     "output_type": "display_data"
    }
   ],
   "source": [
    "#Plot total number of bus rides by daytype for past 3 years (January to May data)\n",
    "plotdata = pd.DataFrame({\n",
    "    \"Total Rides (2018)\":[83342722, 9331102, 7451167],\n",
    "    \"Total Rides (2019)\":[80337637, 9055319, 7090149],\n",
    "    \"Total Rides (2020)\":[47312351, 5508919, 4477186]\n",
    "    }, \n",
    "    index=[\"Weekdays (W)\", \"Saturdays (A)\", \"Sundays/Holidays (U)\"]\n",
    ")\n",
    "color = [\"green\", \"blue\", \"red\"]\n",
    "\n",
    "plotdata.plot(kind=\"bar\", color=color, figsize=(7,7))\n",
    "plt.title(\"Total Bus Rides (January through May) v Daytypes\")\n",
    "plt.xlabel(\"Daytypes\")\n",
    "plt.ylabel(\"Total Bus Rides (Tens of Millions)\")\n",
    "plt.savefig(\"Plots/'Bus rides by daytype (Jan-May)\", bbox_inches='tight')"
   ]
  },
  {
   "cell_type": "code",
   "execution_count": 166,
   "metadata": {},
   "outputs": [
    {
     "data": {
      "image/png": "[encoded data removed]",
      "text/plain": [
       "<Figure size 504x504 with 1 Axes>"
      ]
     },
     "metadata": {
      "needs_background": "light"
     },
     "output_type": "display_data"
    }
   ],
   "source": [
    "# Plot average number of bus rides by daytype for past 3 years (January to May data)\n",
    "plotdata = pd.DataFrame({\n",
    "    \"Average Rides (2018)\":[6158.94, 4705.55, 3701.52],\n",
    "    \"Average Rides (2019)\":[6034.98, 4568.78, 3516.94],\n",
    "    \"Average Rides (2020)\":[4435.39, 3447.38, 2842.66]\n",
    "    }, \n",
    "    index=[\"Weekdays (W)\", \"Saturdays (A)\", \"Sundays/Holidays (U)\"]\n",
    ")\n",
    "color = [\"green\", \"blue\", \"red\"]\n",
    "plotdata.plot(kind=\"bar\", color=color, figsize=(7,7))\n",
    "plt.title(\"Average Bus Rides (January through May) v Daytypes\")\n",
    "plt.xlabel(\"Daytypes\")\n",
    "plt.ylabel(\"Average Bus Rides\")\n",
    "plt.savefig(\"Plots/'Avg Bus rides by daytype (Jan-May)\", bbox_inches='tight')"
   ]
  },
  {
   "cell_type": "markdown",
   "metadata": {},
   "source": [
    "Analysis:\n",
    "\n",
    "From the data for the past three years, it can be observed that for both the L and bus routes the most with the highest number of rides are weekdays. This is understandable as public transportation is often utilized as a means of travel for work and there are multiple week days. It is also observable that on average across all of the daytypes, there are more bus rides taken than L rides. This could be explained by the fact that the bus system in Chicago is more expansive than the L system. Additionally, in analyzing the effect of the Covid-19 outbreak on the number of rides taken, it is noticeable that the pandemic had a great effect on the number of rides taken on both the L and bus lines. Comparing the data from 2020 thus far against those same months in 2019 and 2018, on average there is about 2000 less bus and L rides taken on the weekdays in 2020 so far as compared to the previous two years. This makes sense due to the precautions local and federal governments have taken to reduce the spread of the pandemic."
   ]
  }
 ],
 "metadata": {
  "kernelspec": {
   "display_name": "Python 3",
   "language": "python",
   "name": "python3"
  },
  "language_info": {
   "codemirror_mode": {
    "name": "ipython",
    "version": 3
   },
   "file_extension": ".py",
   "mimetype": "text/x-python",
   "name": "python",
   "nbconvert_exporter": "python",
   "pygments_lexer": "ipython3",
   "version": "3.7.6"
  }
 },
 "nbformat": 4,
 "nbformat_minor": 4
}
