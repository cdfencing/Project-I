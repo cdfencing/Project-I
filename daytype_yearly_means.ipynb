{
 "cells": [
  {
   "cell_type": "code",
   "execution_count": 79,
   "metadata": {},
   "outputs": [],
   "source": [
    "import matplotlib.pyplot as plt\n",
    "import pandas as pd\n",
    "import numpy as np\n",
    "import scipy.stats as st\n",
    "\n",
    "L_data = pd.read_csv(\"Data/L_data_merged.csv\", low_memory = False)\n",
    "\n",
    "L_data['date'] = pd.to_datetime(L_data['date'], infer_datetime_format=True)\n",
    "\n"
   ]
  },
  {
   "cell_type": "code",
   "execution_count": 4,
   "metadata": {},
   "outputs": [
    {
     "data": {
      "text/plain": [
       "array(['A', 'W', 'U'], dtype=object)"
      ]
     },
     "execution_count": 4,
     "metadata": {},
     "output_type": "execute_result"
    }
   ],
   "source": [
    "#find the unique daytypes\n",
    "# W is weekday, A is saturday and U is sunday and holiday \n",
    "\n",
    "L_data['daytype'].unique()"
   ]
  },
  {
   "cell_type": "code",
   "execution_count": 81,
   "metadata": {},
   "outputs": [],
   "source": [
    "L_data_2018 = L_data.loc[(L_data['date']>= '01-01-2018') & (L_data['date']<= \"12-31-2018\")]"
   ]
  },
  {
   "cell_type": "code",
   "execution_count": 82,
   "metadata": {},
   "outputs": [
    {
     "data": {
      "text/html": [
       "<div>\n",
       "<style scoped>\n",
       "    .dataframe tbody tr th:only-of-type {\n",
       "        vertical-align: middle;\n",
       "    }\n",
       "\n",
       "    .dataframe tbody tr th {\n",
       "        vertical-align: top;\n",
       "    }\n",
       "\n",
       "    .dataframe thead th {\n",
       "        text-align: right;\n",
       "    }\n",
       "</style>\n",
       "<table border=\"1\" class=\"dataframe\">\n",
       "  <thead>\n",
       "    <tr style=\"text-align: right;\">\n",
       "      <th></th>\n",
       "      <th>index</th>\n",
       "      <th>daytype</th>\n",
       "      <th>rides</th>\n",
       "    </tr>\n",
       "  </thead>\n",
       "  <tbody>\n",
       "    <tr>\n",
       "      <th>0</th>\n",
       "      <td>884071</td>\n",
       "      <td>W</td>\n",
       "      <td>930</td>\n",
       "    </tr>\n",
       "    <tr>\n",
       "      <th>1</th>\n",
       "      <td>884072</td>\n",
       "      <td>W</td>\n",
       "      <td>5289</td>\n",
       "    </tr>\n",
       "    <tr>\n",
       "      <th>2</th>\n",
       "      <td>884073</td>\n",
       "      <td>W</td>\n",
       "      <td>771</td>\n",
       "    </tr>\n",
       "    <tr>\n",
       "      <th>3</th>\n",
       "      <td>884074</td>\n",
       "      <td>A</td>\n",
       "      <td>629</td>\n",
       "    </tr>\n",
       "    <tr>\n",
       "      <th>4</th>\n",
       "      <td>884075</td>\n",
       "      <td>A</td>\n",
       "      <td>3288</td>\n",
       "    </tr>\n",
       "  </tbody>\n",
       "</table>\n",
       "</div>"
      ],
      "text/plain": [
       "    index daytype  rides\n",
       "0  884071       W    930\n",
       "1  884072       W   5289\n",
       "2  884073       W    771\n",
       "3  884074       A    629\n",
       "4  884075       A   3288"
      ]
     },
     "execution_count": 82,
     "metadata": {},
     "output_type": "execute_result"
    }
   ],
   "source": [
    "#get rides for 2018 and by type\n",
    "rides_2018 = L_data_2018[['daytype', 'rides']].reset_index()\n",
    "\n",
    "rides_2018.head()"
   ]
  },
  {
   "cell_type": "code",
   "execution_count": 83,
   "metadata": {},
   "outputs": [
    {
     "data": {
      "text/html": [
       "<div>\n",
       "<style scoped>\n",
       "    .dataframe tbody tr th:only-of-type {\n",
       "        vertical-align: middle;\n",
       "    }\n",
       "\n",
       "    .dataframe tbody tr th {\n",
       "        vertical-align: top;\n",
       "    }\n",
       "\n",
       "    .dataframe thead th {\n",
       "        text-align: right;\n",
       "    }\n",
       "</style>\n",
       "<table border=\"1\" class=\"dataframe\">\n",
       "  <thead>\n",
       "    <tr style=\"text-align: right;\">\n",
       "      <th></th>\n",
       "      <th>Total Rides (2018)</th>\n",
       "      <th>Average Rides</th>\n",
       "    </tr>\n",
       "  </thead>\n",
       "  <tbody>\n",
       "    <tr>\n",
       "      <th>Weekdays (W)</th>\n",
       "      <td>152687570</td>\n",
       "      <td>4158.16</td>\n",
       "    </tr>\n",
       "    <tr>\n",
       "      <th>Saturdays (A)</th>\n",
       "      <td>17742656</td>\n",
       "      <td>2369.48</td>\n",
       "    </tr>\n",
       "    <tr>\n",
       "      <th>Sundays/Holidays (U)</th>\n",
       "      <td>14715895</td>\n",
       "      <td>1761.75</td>\n",
       "    </tr>\n",
       "  </tbody>\n",
       "</table>\n",
       "</div>"
      ],
      "text/plain": [
       "                     Total Rides (2018) Average Rides\n",
       "Weekdays (W)                  152687570       4158.16\n",
       "Saturdays (A)                  17742656       2369.48\n",
       "Sundays/Holidays (U)           14715895       1761.75"
      ]
     },
     "execution_count": 83,
     "metadata": {},
     "output_type": "execute_result"
    }
   ],
   "source": [
    "#calculations for the rides by daytypes for 2018\n",
    "rides_2018_daytype = rides_2018.groupby('daytype').sum()\n",
    "rides_2018_daytype_avg = rides_2018.groupby(\"daytype\").mean()\n",
    "\n",
    "rides_A_18 = rides_2018_daytype.loc['A', 'rides']\n",
    "rides_U_18 = rides_2018_daytype.loc['U', 'rides']\n",
    "rides_W_18 = rides_2018_daytype.loc['W', 'rides']\n",
    "avg_rides_A_18 = rides_2018_daytype_avg.loc['A', 'rides']\n",
    "avg_rides_U_18 = rides_2018_daytype_avg.loc['U', 'rides']\n",
    "avg_rides_W_18 = rides_2018_daytype_avg.loc['W', 'rides']\n",
    "\n",
    "#create 2018 ride values data frame\n",
    "ride_values_2018 = pd.DataFrame(columns = [\"Total Rides (2018)\", \"Average Rides\"], \n",
    "                             index = [\"Weekdays (W)\", \"Saturdays (A)\", \"Sundays/Holidays (U)\"])\n",
    "\n",
    "ride_values_2018.loc[\"Saturdays (A)\"] = [rides_A_18, avg_rides_A_18]\n",
    "ride_values_2018.loc[\"Sundays/Holidays (U)\"] = [rides_U_18, avg_rides_U_18]\n",
    "ride_values_2018.loc[\"Weekdays (W)\"] = [rides_W_18, avg_rides_W_18]\n",
    "\n",
    "ride_values_2018"
   ]
  },
  {
   "cell_type": "code",
   "execution_count": 11,
   "metadata": {},
   "outputs": [],
   "source": [
    "L_data_2019 = L_data.loc[(L_data['date']>= '01-01-2019') & (L_data['date']<= \"12-31-2019\")]\n",
    "\n",
    "#get rides for 2019 and by type\n",
    "rides_2019 = L_data_2019[['daytype', 'rides']].reset_index()"
   ]
  },
  {
   "cell_type": "code",
   "execution_count": 64,
   "metadata": {},
   "outputs": [
    {
     "data": {
      "text/html": [
       "<div>\n",
       "<style scoped>\n",
       "    .dataframe tbody tr th:only-of-type {\n",
       "        vertical-align: middle;\n",
       "    }\n",
       "\n",
       "    .dataframe tbody tr th {\n",
       "        vertical-align: top;\n",
       "    }\n",
       "\n",
       "    .dataframe thead th {\n",
       "        text-align: right;\n",
       "    }\n",
       "</style>\n",
       "<table border=\"1\" class=\"dataframe\">\n",
       "  <thead>\n",
       "    <tr style=\"text-align: right;\">\n",
       "      <th></th>\n",
       "      <th>Total Rides (2019)</th>\n",
       "      <th>Average Rides</th>\n",
       "    </tr>\n",
       "  </thead>\n",
       "  <tbody>\n",
       "    <tr>\n",
       "      <th>Weekdays (W)</th>\n",
       "      <td>148394811</td>\n",
       "      <td>4067.06</td>\n",
       "    </tr>\n",
       "    <tr>\n",
       "      <th>Saturdays (A)</th>\n",
       "      <td>16671366</td>\n",
       "      <td>2240.78</td>\n",
       "    </tr>\n",
       "    <tr>\n",
       "      <th>Sundays/Holidays (U)</th>\n",
       "      <td>14005028</td>\n",
       "      <td>1687.56</td>\n",
       "    </tr>\n",
       "  </tbody>\n",
       "</table>\n",
       "</div>"
      ],
      "text/plain": [
       "                     Total Rides (2019) Average Rides\n",
       "Weekdays (W)                  148394811       4067.06\n",
       "Saturdays (A)                  16671366       2240.78\n",
       "Sundays/Holidays (U)           14005028       1687.56"
      ]
     },
     "execution_count": 64,
     "metadata": {},
     "output_type": "execute_result"
    }
   ],
   "source": [
    "#calculations for the rides by daytypes for 2019\n",
    "rides_2019_daytype = rides_2019.groupby('daytype').sum()\n",
    "rides_2019_daytype_avg = rides_2019.groupby(\"daytype\").mean()\n",
    "\n",
    "rides_A_19 = rides_2019_daytype.loc['A', 'rides']\n",
    "rides_U_19 = rides_2019_daytype.loc['U', 'rides']\n",
    "rides_W_19 = rides_2019_daytype.loc['W', 'rides']\n",
    "avg_rides_A_19 = rides_2019_daytype_avg.loc['A', 'rides']\n",
    "avg_rides_U_19 = rides_2019_daytype_avg.loc['U', 'rides']\n",
    "avg_rides_W_19 = rides_2019_daytype_avg.loc['W', 'rides']\n",
    "\n",
    "#create 2019 ride values data frame\n",
    "ride_values_2019 = pd.DataFrame(columns = [\"Total Rides (2019)\", \"Average Rides\"], \n",
    "                             index = [\"Weekdays (W)\", \"Saturdays (A)\", \"Sundays/Holidays (U)\"])\n",
    "\n",
    "ride_values_2019.loc[\"Saturdays (A)\"] = [rides_A_19, avg_rides_A_19]\n",
    "ride_values_2019.loc[\"Sundays/Holidays (U)\"] = [rides_U_19, avg_rides_U_19]\n",
    "ride_values_2019.loc[\"Weekdays (W)\"] = [rides_W_19, avg_rides_W_19]\n",
    "\n",
    "ride_values_2019"
   ]
  },
  {
   "cell_type": "code",
   "execution_count": 14,
   "metadata": {},
   "outputs": [],
   "source": [
    "L_data_2020 = L_data.loc[(L_data['date']>= '01-01-2020') & (L_data['date']<= \"12-31-2020\")]\n",
    "\n",
    "#get rides for 2020 and by type\n",
    "rides_2020 = L_data_2020[['daytype', 'rides']].reset_index()"
   ]
  },
  {
   "cell_type": "code",
   "execution_count": 63,
   "metadata": {},
   "outputs": [
    {
     "data": {
      "text/html": [
       "<div>\n",
       "<style scoped>\n",
       "    .dataframe tbody tr th:only-of-type {\n",
       "        vertical-align: middle;\n",
       "    }\n",
       "\n",
       "    .dataframe tbody tr th {\n",
       "        vertical-align: top;\n",
       "    }\n",
       "\n",
       "    .dataframe thead th {\n",
       "        text-align: right;\n",
       "    }\n",
       "</style>\n",
       "<table border=\"1\" class=\"dataframe\">\n",
       "  <thead>\n",
       "    <tr style=\"text-align: right;\">\n",
       "      <th></th>\n",
       "      <th>Total Rides (2020)</th>\n",
       "      <th>Average Rides</th>\n",
       "    </tr>\n",
       "  </thead>\n",
       "  <tbody>\n",
       "    <tr>\n",
       "      <th>Weekdays (W)</th>\n",
       "      <td>31528216</td>\n",
       "      <td>2563.69</td>\n",
       "    </tr>\n",
       "    <tr>\n",
       "      <th>Saturdays (A)</th>\n",
       "      <td>3146658</td>\n",
       "      <td>1294.39</td>\n",
       "    </tr>\n",
       "    <tr>\n",
       "      <th>Sundays/Holidays (U)</th>\n",
       "      <td>2619106</td>\n",
       "      <td>1017.52</td>\n",
       "    </tr>\n",
       "  </tbody>\n",
       "</table>\n",
       "</div>"
      ],
      "text/plain": [
       "                     Total Rides (2020) Average Rides\n",
       "Weekdays (W)                   31528216       2563.69\n",
       "Saturdays (A)                   3146658       1294.39\n",
       "Sundays/Holidays (U)            2619106       1017.52"
      ]
     },
     "execution_count": 63,
     "metadata": {},
     "output_type": "execute_result"
    }
   ],
   "source": [
    "#calculations for the rides by daytypes for 2020\n",
    "rides_2020_daytype = rides_2020.groupby('daytype').sum()\n",
    "rides_2020_daytype_avg = rides_2020.groupby(\"daytype\").mean()\n",
    "\n",
    "rides_A_20 = rides_2020_daytype.loc['A', 'rides']\n",
    "rides_U_20 = rides_2020_daytype.loc['U', 'rides']\n",
    "rides_W_20 = rides_2020_daytype.loc['W', 'rides']\n",
    "avg_rides_A_20 = rides_2020_daytype_avg.loc['A', 'rides']\n",
    "avg_rides_U_20 = rides_2020_daytype_avg.loc['U', 'rides']\n",
    "avg_rides_W_20 = rides_2020_daytype_avg.loc['W', 'rides']\n",
    "\n",
    "#create 2020 ride values data frame\n",
    "ride_values_2020 = pd.DataFrame(columns = [\"Total Rides (2020)\", \"Average Rides\"], \n",
    "                             index = [\"Weekdays (W)\", \"Saturdays (A)\", \"Sundays/Holidays (U)\"])\n",
    "\n",
    "ride_values_2020.loc[\"Saturdays (A)\"] = [rides_A_20, avg_rides_A_20]\n",
    "ride_values_2020.loc[\"Sundays/Holidays (U)\"] = [rides_U_20, avg_rides_U_20]\n",
    "ride_values_2020.loc[\"Weekdays (W)\"] = [rides_W_20, avg_rides_W_20]\n",
    "\n",
    "ride_values_2020"
   ]
  },
  {
   "cell_type": "code",
   "execution_count": 78,
   "metadata": {},
   "outputs": [
    {
     "data": {
      "text/plain": [
       "Text(0, 0.5, 'Total Rides (Hundred Millions)')"
      ]
     },
     "execution_count": 78,
     "metadata": {},
     "output_type": "execute_result"
    },
    {
     "data": {
      "image/png": "[encoded data removed]",
      "text/plain": [
       "<Figure size 432x288 with 1 Axes>"
      ]
     },
     "metadata": {
      "needs_background": "light"
     },
     "output_type": "display_data"
    }
   ],
   "source": [
    "#Plot total number of rides by daytype for past 3 years\n",
    "plotdata = pd.DataFrame({\n",
    "    \"Total Rides (2018)\":[152687570, 17742656, 14715895],\n",
    "    \"Total Rides (2019)\":[148394811, 16671366, 14005028],\n",
    "    \"Total Rides (2020)\":[31528216, 3146658, 2619106]\n",
    "    }, \n",
    "    index=[\"Weekdays (W)\", \"Saturdays (A)\", \"Sundays/Holidays (U)\"]\n",
    ")\n",
    "color = [\"green\", \"blue\", \"red\"]\n",
    "\n",
    "plotdata.plot(kind=\"bar\", color=color)\n",
    "plt.title(\"Total Rides v Daytypes\")\n",
    "plt.xlabel(\"Daytypes\")\n",
    "plt.ylabel(\"Total Rides (Hundred Millions)\")"
   ]
  },
  {
   "cell_type": "code",
   "execution_count": 72,
   "metadata": {},
   "outputs": [
    {
     "data": {
      "text/plain": [
       "Text(0, 0.5, 'Average Rides')"
      ]
     },
     "execution_count": 72,
     "metadata": {},
     "output_type": "execute_result"
    },
    {
     "data": {
      "image/png": "[encoded data removed]",
      "text/plain": [
       "<Figure size 432x288 with 1 Axes>"
      ]
     },
     "metadata": {
      "needs_background": "light"
     },
     "output_type": "display_data"
    }
   ],
   "source": [
    "# Plot average number of rides by daytype for past 3 years\n",
    "plotdata = pd.DataFrame({\n",
    "    \"Average Rides (2018)\":[4158.16, 2369.48, 1761.75],\n",
    "    \"Average Rides (2019)\":[4067.06, 2240.78, 1687.56],\n",
    "    \"Average Rides (2020)\":[2563.69, 1294.39, 1017.52]\n",
    "    }, \n",
    "    index=[\"Weekdays (W)\", \"Saturdays (A)\", \"Sundays/Holidays (U)\"]\n",
    ")\n",
    "color = [\"green\", \"blue\", \"red\"]\n",
    "plotdata.plot(kind=\"bar\", color=color)\n",
    "plt.title(\"Average Rides v Daytypes\")\n",
    "plt.xlabel(\"Daytypes\")\n",
    "plt.ylabel(\"Average Rides\")"
   ]
  },
  {
   "cell_type": "code",
   "execution_count": null,
   "metadata": {},
   "outputs": [],
   "source": [
    "#look deeper at 2018 and 2019 jan through may and compare to covid"
   ]
  },
  {
   "cell_type": "code",
   "execution_count": 84,
   "metadata": {},
   "outputs": [],
   "source": [
    "L_data_2018_compressed = L_data.loc[(L_data['date']>= '01-01-2018') & (L_data['date']<= \"05-31-2018\")]\n",
    "L_data_2019_compressed = L_data.loc[(L_data['date']>= '01-01-2019') & (L_data['date']<= \"05-31-2019\")]"
   ]
  },
  {
   "cell_type": "code",
   "execution_count": null,
   "metadata": {},
   "outputs": [],
   "source": []
  }
 ],
 "metadata": {
  "kernelspec": {
   "display_name": "Python 3",
   "language": "python",
   "name": "python3"
  },
  "language_info": {
   "codemirror_mode": {
    "name": "ipython",
    "version": 3
   },
   "file_extension": ".py",
   "mimetype": "text/x-python",
   "name": "python",
   "nbconvert_exporter": "python",
   "pygments_lexer": "ipython3",
   "version": "3.7.6"
  }
 },
 "nbformat": 4,
 "nbformat_minor": 4
}
