{
 "cells": [
  {
   "cell_type": "code",
   "execution_count": 3,
   "metadata": {},
   "outputs": [],
   "source": [
    "import matplotlib.pyplot as plt\n",
    "import pandas as pd\n",
    "import numpy as np\n",
    "import scipy.stats as st\n",
    "\n",
    "L_data = pd.read_csv(\"Data/L_data_merged.csv\", low_memory = False)\n",
    "\n",
    "L_data['date'] = pd.to_datetime(L_data['date'], infer_datetime_format=True)\n",
    "\n",
    "L_data.head()"
   ]
  },
  {
   "cell_type": "code",
   "execution_count": null,
   "metadata": {},
   "outputs": [],
   "source": []
  },
  {
   "cell_type": "code",
   "execution_count": 45,
   "metadata": {},
   "outputs": [
    {
     "ename": "ValueError",
     "evalue": "bins must be of datetime64 dtype",
     "output_type": "error",
     "traceback": [
      "\u001b[1;31m---------------------------------------------------------------------------\u001b[0m",
      "\u001b[1;31mValueError\u001b[0m                                Traceback (most recent call last)",
      "\u001b[1;32m<ipython-input-45-45be48a6ca04>\u001b[0m in \u001b[0;36m<module>\u001b[1;34m\u001b[0m\n\u001b[0;32m     23\u001b[0m \u001b[1;33m\u001b[0m\u001b[0m\n\u001b[0;32m     24\u001b[0m \u001b[1;31m# Slice the data and place it into bins and do calculations\u001b[0m\u001b[1;33m\u001b[0m\u001b[1;33m\u001b[0m\u001b[1;33m\u001b[0m\u001b[0m\n\u001b[1;32m---> 25\u001b[1;33m \u001b[0mL_data_2018\u001b[0m\u001b[1;33m[\u001b[0m\u001b[1;34m'Week of the Year'\u001b[0m\u001b[1;33m]\u001b[0m \u001b[1;33m=\u001b[0m  \u001b[0mpd\u001b[0m\u001b[1;33m.\u001b[0m\u001b[0mcut\u001b[0m\u001b[1;33m(\u001b[0m\u001b[0mL_data_2018\u001b[0m\u001b[1;33m[\u001b[0m\u001b[1;34m\"date\"\u001b[0m\u001b[1;33m]\u001b[0m\u001b[1;33m,\u001b[0m \u001b[0mweek_bins\u001b[0m\u001b[1;33m,\u001b[0m \u001b[0mlabels\u001b[0m\u001b[1;33m=\u001b[0m\u001b[0mgroup_labels_week\u001b[0m\u001b[1;33m)\u001b[0m\u001b[1;33m\u001b[0m\u001b[1;33m\u001b[0m\u001b[0m\n\u001b[0m\u001b[0;32m     26\u001b[0m \u001b[1;33m\u001b[0m\u001b[0m\n\u001b[0;32m     27\u001b[0m \u001b[0mL_data_2018\u001b[0m\u001b[1;33m[\u001b[0m\u001b[1;34m'Week of the Year'\u001b[0m\u001b[1;33m]\u001b[0m\u001b[1;33m\u001b[0m\u001b[1;33m\u001b[0m\u001b[0m\n",
      "\u001b[1;32m~\\anaconda3\\lib\\site-packages\\pandas\\core\\reshape\\tile.py\u001b[0m in \u001b[0;36mcut\u001b[1;34m(x, bins, right, labels, retbins, precision, include_lowest, duplicates)\u001b[0m\n\u001b[0;32m    249\u001b[0m         \u001b[1;32melse\u001b[0m\u001b[1;33m:\u001b[0m\u001b[1;33m\u001b[0m\u001b[1;33m\u001b[0m\u001b[0m\n\u001b[0;32m    250\u001b[0m             \u001b[0mbins\u001b[0m \u001b[1;33m=\u001b[0m \u001b[0mnp\u001b[0m\u001b[1;33m.\u001b[0m\u001b[0masarray\u001b[0m\u001b[1;33m(\u001b[0m\u001b[0mbins\u001b[0m\u001b[1;33m)\u001b[0m\u001b[1;33m\u001b[0m\u001b[1;33m\u001b[0m\u001b[0m\n\u001b[1;32m--> 251\u001b[1;33m         \u001b[0mbins\u001b[0m \u001b[1;33m=\u001b[0m \u001b[0m_convert_bin_to_numeric_type\u001b[0m\u001b[1;33m(\u001b[0m\u001b[0mbins\u001b[0m\u001b[1;33m,\u001b[0m \u001b[0mdtype\u001b[0m\u001b[1;33m)\u001b[0m\u001b[1;33m\u001b[0m\u001b[1;33m\u001b[0m\u001b[0m\n\u001b[0m\u001b[0;32m    252\u001b[0m \u001b[1;33m\u001b[0m\u001b[0m\n\u001b[0;32m    253\u001b[0m         \u001b[1;31m# GH 26045: cast to float64 to avoid an overflow\u001b[0m\u001b[1;33m\u001b[0m\u001b[1;33m\u001b[0m\u001b[1;33m\u001b[0m\u001b[0m\n",
      "\u001b[1;32m~\\anaconda3\\lib\\site-packages\\pandas\\core\\reshape\\tile.py\u001b[0m in \u001b[0;36m_convert_bin_to_numeric_type\u001b[1;34m(bins, dtype)\u001b[0m\n\u001b[0;32m    484\u001b[0m             \u001b[0mbins\u001b[0m \u001b[1;33m=\u001b[0m \u001b[0mto_datetime\u001b[0m\u001b[1;33m(\u001b[0m\u001b[0mbins\u001b[0m\u001b[1;33m)\u001b[0m\u001b[1;33m.\u001b[0m\u001b[0mview\u001b[0m\u001b[1;33m(\u001b[0m\u001b[0mnp\u001b[0m\u001b[1;33m.\u001b[0m\u001b[0mint64\u001b[0m\u001b[1;33m)\u001b[0m\u001b[1;33m\u001b[0m\u001b[1;33m\u001b[0m\u001b[0m\n\u001b[0;32m    485\u001b[0m         \u001b[1;32melse\u001b[0m\u001b[1;33m:\u001b[0m\u001b[1;33m\u001b[0m\u001b[1;33m\u001b[0m\u001b[0m\n\u001b[1;32m--> 486\u001b[1;33m             \u001b[1;32mraise\u001b[0m \u001b[0mValueError\u001b[0m\u001b[1;33m(\u001b[0m\u001b[1;34m\"bins must be of datetime64 dtype\"\u001b[0m\u001b[1;33m)\u001b[0m\u001b[1;33m\u001b[0m\u001b[1;33m\u001b[0m\u001b[0m\n\u001b[0m\u001b[0;32m    487\u001b[0m \u001b[1;33m\u001b[0m\u001b[0m\n\u001b[0;32m    488\u001b[0m     \u001b[1;32mreturn\u001b[0m \u001b[0mbins\u001b[0m\u001b[1;33m\u001b[0m\u001b[1;33m\u001b[0m\u001b[0m\n",
      "\u001b[1;31mValueError\u001b[0m: bins must be of datetime64 dtype"
     ]
    }
   ],
   "source": [
    "#weekly rides\n",
    "\n",
    "# Create bins for weeks of the year\n",
    "week_bins = [\"01-01-2018 to 01-07-2018\", \"01-08-2018 to 01-14-2018\", \"01-15-2018 to 01-21-2018\", \"01-22-2018 to 01-28-2018\", \"01-29-2018 to 02-04-2018\", \n",
    "            \"02-05-2018 to 02-11-2018\", \"02-12-2018 to 02-18-2018\", \"02-19-2018 to 02-25-2018\", \"02-26-2018 to 03-04-2018\", \"03-05-2018 to 03-11-2018\", \n",
    "            \"03-12-2018 to 03-18-2018\", \"03-19-2018 to 03-25-2018\", \"03-26-2018 to 04-01-2018\", \"04-02-2018 to 04-08-2018\", \"04-09-2018 to 04-15-2018\", \n",
    "            \"04-16-2018 to 04-22-2018\", \"04-23-2018 to 04-29-2018\", \"04-30-2018 to 05-06-2018\", \"05-07-2018 to 05-13-2018\", \"05-14-2018 to 05-20-2018\", \n",
    "             \"05-21-2018 to 05-27-2018\", \"05-28-2018 to 06-03-2018\", \"06-04-2018 to 06-10-2018\", \"06-11-2018 to 06-17-2018\", \"06-18-2018 to 06-24-2018\", \n",
    "             \"06-25-2018 to 07-01-2018\", \"07-02-2018 to 07-08-2018\", \"07-09-2018 to 07-15-2018\", \"07-16-2018 to 07-22-2018\", \"07-23-2018 to 07-29-2018\", \n",
    "            \"07-30-2018 to 08-05-2018\", \"08-06-2018 to 08-12-2018\", \"08-13-2018 to 08-19-2018\", \"08-20-2018 to 08-26-2018\", \"08-27-2018 to 09-02-2018\", \n",
    "            \"09-03-2018 to 09-09-2018\", \"09-10-2018 to 09-16-2018\", \"09-17-2018 to 09-23-2018\", \"09-24-2018 to 09-30-2018\", \"10-01-2018 to 10-07-2018\", \n",
    "            \"10-08-2018 to 10-14-2018\", \"10-15-2018 to 10-21-2018\", \"10-22-2018 to 10-28-2018\", \"10-29-2018 to 11-04-2018\", \"11-05-2018 to 11-11-2018\", \n",
    "             \"11-12-2018 to 11-18-2018\", \"11-19-2018 to 11-25-2018\", \"11-26-2018 to 12-02-2018\", \"12-03-2018 to 12-09-2018\", \"12-10-2018 to 12-16-2018\", \n",
    "            \"12-17-2018 to 12-23-2018\", \"12-24-2018 to 12-31-2018\"]\n",
    "\n",
    "# Create labels for these bins\n",
    "group_labels_week = [\"week 1\", \"week 2\", \"week 3\", \"week 4\", \"week 5\", \"week 6\", \"week 7\", \"week 8\", \"week 9\", \"week 10\", \"week 11\", \"week 12\", \"week 13\", \n",
    "                     \"week 14\", \"week 15\", \"week 16\", \"week 17\", \"week 18\", \"week 19\", \"week 20\", \"week 21\", \"week 22\", \"week 23\", \"week 24\", \"week 25\", \n",
    "                     \"week 26\", \"week 27\", \"week 28\", \"week 29\", \"week 30\", \"week 31\", \"week 32\", \"week 33\", \"week 34\", \"week 35\", \"week 36\", \"week 37\", \n",
    "                     \"week 38\", \"week 39\", \"week 40\", \"week 41\", \"week 42\", \"week 43\", \"week 44\", \"week 45\", \"week 46\", \"week 47\", \"week 48\", \"week 49\", \n",
    "                     \"week 50\", \"week 51\", \"week 52\"]\n",
    "    \n",
    "    \n",
    "# Slice the data and place it into bins and do calculations\n",
    "L_data_2018['Week of the Year'] =  pd.cut(L_data_2018[\"date\"], week_bins, labels=group_labels_week)\n",
    "\n",
    "L_data_2018['Week of the Year']\n"
   ]
  },
  {
   "cell_type": "code",
   "execution_count": null,
   "metadata": {},
   "outputs": [],
   "source": []
  },
  {
   "cell_type": "code",
   "execution_count": null,
   "metadata": {},
   "outputs": [],
   "source": []
  },
  {
   "cell_type": "code",
   "execution_count": null,
   "metadata": {},
   "outputs": [],
   "source": []
  },
  {
   "cell_type": "code",
   "execution_count": null,
   "metadata": {},
   "outputs": [],
   "source": []
  }
 ],
 "metadata": {
  "kernelspec": {
   "display_name": "Python 3",
   "language": "python",
   "name": "python3"
  },
  "language_info": {
   "codemirror_mode": {
    "name": "ipython",
    "version": 3
   },
   "file_extension": ".py",
   "mimetype": "text/x-python",
   "name": "python",
   "nbconvert_exporter": "python",
   "pygments_lexer": "ipython3",
   "version": "3.7.6"
  }
 },
 "nbformat": 4,
 "nbformat_minor": 4
}
